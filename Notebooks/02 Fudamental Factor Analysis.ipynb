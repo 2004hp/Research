{
 "cells": [
  {
   "cell_type": "markdown",
   "metadata": {},
   "source": [
    "![QuantConnect Logo](https://cdn.quantconnect.com/web/i/logo-small.png)\n",
    "###                  Welcome to The QuantConnect Research Page\n",
    "Refer to this page for documentation https://www.quantconnect.com/docs#Introduction-to-Jupyter\n",
    "\n",
    "Contribute to this template file https://github.com/QuantConnect/Lean/blob/master/Jupyter/BasicQuantBookTemplate.ipynb"
   ]
  },
  {
   "cell_type": "markdown",
   "metadata": {
    "collapsed": true
   },
   "source": [
    "<h1 align = \"center\"> Fundamental Factor Analysis Research </h1>\n",
    "\n",
    "Many different fundamental-specific factors can influence the return on any individual stock. This research will show how to find significant factors to explain the stocks return and build the multi-factor model."
   ]
  },
  {
   "cell_type": "code",
   "execution_count": 1,
   "metadata": {
    "collapsed": true
   },
   "outputs": [],
   "source": [
    "%matplotlib inline\n",
    "from clr import AddReference\n",
    "AddReference(\"System\")\n",
    "AddReference(\"QuantConnect.Common\")\n",
    "AddReference(\"QuantConnect.Jupyter\")\n",
    "AddReference(\"QuantConnect.Indicators\")\n",
    "from System import *\n",
    "from QuantConnect import *\n",
    "from QuantConnect.Data.Market import TradeBar, QuoteBar\n",
    "from QuantConnect.Jupyter import *\n",
    "from QuantConnect.Indicators import *"
   ]
  },
  {
   "cell_type": "code",
   "execution_count": 2,
   "metadata": {},
   "outputs": [
    {
     "name": "stdout",
     "output_type": "stream",
     "text": [
      "Populating the interactive namespace from numpy and matplotlib\n"
     ]
    },
    {
     "name": "stderr",
     "output_type": "stream",
     "text": [
      "/usr/local/lib/python2.7/dist-packages/IPython/core/magics/pylab.py:161: UserWarning: pylab import has clobbered these variables: ['datetime']\n",
      "`%matplotlib` prevents importing * from pylab and numpy\n",
      "  \"\\n`%matplotlib` prevents importing * from pylab and numpy\"\n"
     ]
    }
   ],
   "source": [
    "from datetime import datetime, timedelta\n",
    "import matplotlib.pyplot as plt\n",
    "import pandas as pd\n",
    "import numpy as np\n",
    "from datetime import date, timedelta\n",
    "from calendar import monthrange\n",
    "%pylab inline \n",
    "# Create an instance\n",
    "qb = QuantBook()"
   ]
  },
  {
   "cell_type": "markdown",
   "metadata": {
    "collapsed": true
   },
   "source": [
    "### 1. Choose a basket of symbols as our universe sample \n",
    "- Here we choose 100 stocks from over 8000 quantconnect universe which have fundamental data. Those symbols are chosen at 2011-01-01.\n",
    "- First, we sort the stocks by daily dollar volume and take the top stocks with the highest dollar volumes as our candidates. This step can be done by using QuantConnect backtest universe selection API."
   ]
  },
  {
   "cell_type": "code",
   "execution_count": 3,
   "metadata": {
    "collapsed": true
   },
   "outputs": [],
   "source": [
    "symbols = [u'AAPL', u'C', u'XOM', u'JPM', u'GOOG', u'MSFT', u'LVS', u'INTC', u'AMZN', \n",
    "           u'CSCO', u'F', u'WFC', u'NFLX', u'FCX', u'QCOM', u'PBR', u'GS', u'JNJ', u'WMT',\n",
    "           u'VALE', u'HPQ', u'GE', u'CVX', u'ORCL', u'IBM', u'POT', u'BIDU', u'MRK', u'PG', u'VZ',\n",
    "           u'KO', u'PCLN', u'MS', u'BP', u'CMCSA', u'MCD', u'PFE', u'T', u'COP', u'CAT', \n",
    "           u'SLB', u'MA', u'BA', u'DTV', u'APC', u'V', u'MOS', u'PEP', u'EBAY', u'NEM', u'NTAP',\n",
    "           u'AMGN', u'WYNN', u'CRM', u'CLX', u'S', u'ABX', u'OXY', u'ABT', u'TEVA', u'USB', u'FFIV', \n",
    "           u'GILD', u'MON', u'NVDA', u'SLW', u'HAL', u'AXP', u'MGM', u'TGT', u'MU', u'UPS', u'BTU',\n",
    "           u'EXPE', u'CLF', u'CNX', u'ESRX', u'PM', u'MET', u'CMG', u'CF', u'UNH', u'BBY', u'CHK',\n",
    "           u'COST', u'RIG', u'AIG', u'EMR', u'CME', u'CVS', u'DIS', u'CL', u'UNP', u'DE', u'DD',\n",
    "           u'NOV', u'HD']\n",
    "symbols.sort()"
   ]
  },
  {
   "cell_type": "code",
   "execution_count": 4,
   "metadata": {
    "collapsed": true,
    "scrolled": true
   },
   "outputs": [],
   "source": [
    "start_date = datetime.datetime(2011,1,1)\n",
    "end_date = datetime.datetime.now()\n",
    "num_stocks = 45 # should be less than len(symbols)\n",
    "num_ports = 5"
   ]
  },
  {
   "cell_type": "markdown",
   "metadata": {},
   "source": [
    "### 2. Get Fundamental Data\n",
    "\n",
    "- *GetFundamental([symbol], selector, start_date = datetime(1998,1,1), end_date = datetime.now())*\n",
    "\n",
    "We will get a pandas.DataFrame indexed by the date."
   ]
  },
  {
   "cell_type": "code",
   "execution_count": 6,
   "metadata": {
    "collapsed": true
   },
   "outputs": [],
   "source": [
    "data = qb.GetFundamental(symbols, \"ValuationRatios.PERatio\", start_date, end_date)"
   ]
  },
  {
   "cell_type": "code",
   "execution_count": 7,
   "metadata": {
    "collapsed": true
   },
   "outputs": [],
   "source": [
    "df = data\n",
    "# fill the NaN with the forward data, \n",
    "# drop the NaN rows, \n",
    "# transpose the dataframe with the symbol index\n",
    "df = df.fillna(method='ffill').dropna().T\n",
    "df.index= symbols # change index to symbol names\n",
    "# remove the stocks if there are zero values\n",
    "df = df[~(df == 0).any(axis=1)][:num_stocks]\n",
    "# change columns name to date type\n",
    "df.columns =[i.date() for i in df.columns]"
   ]
  },
  {
   "cell_type": "code",
   "execution_count": 8,
   "metadata": {
    "collapsed": true,
    "scrolled": false
   },
   "outputs": [],
   "source": [
    "drop_columns = []\n",
    "for i in range(len(df.columns)):\n",
    "    date = df.columns[i]\n",
    "    end_day_of_month = date.replace(day=monthrange(date.year, date.month)[1])\n",
    "    if date != end_day_of_month:\n",
    "        drop_columns.append(df.columns[i])\n",
    "# drop columns if it is not the last day of the month        \n",
    "df = df.drop(drop_columns, axis=1)"
   ]
  },
  {
   "cell_type": "markdown",
   "metadata": {
    "collapsed": true
   },
   "source": [
    "### 3. Get History Close Price\n",
    "We can use the QuantConnect API to make Historical Data Requests. The data will be presented as multi-index pandas.DataFrame where the first index is the Symbol."
   ]
  },
  {
   "cell_type": "code",
   "execution_count": 9,
   "metadata": {
    "collapsed": true
   },
   "outputs": [],
   "source": [
    "# create a dictionary keyed by symbols, valued by a list of history close\n",
    "# add the benchmark \"SPY\"\n",
    "hist = {}\n",
    "sym_list = list(df.index)\n",
    "sym_list.append(u'SPY')\n",
    "for symbol in sym_list:    \n",
    "    qb.AddEquity(symbol) \n",
    "    history = qb.History(symbol, start_date, end_date, Resolution.Daily).loc[symbol][\"close\"]\n",
    "    hist[symbol] = history"
   ]
  },
  {
   "cell_type": "markdown",
   "metadata": {},
   "source": [
    "### Compute the monthly return of portfolios\n",
    "- We extract the factor values of candidate stocks at the beginning of each month and On each month, we sort the stocks in ascending order of their factor values, get a list of sorted symbols.\n",
    "- At the end of each month, we extract the one-month history close prices of each stock and compute the monthly returns.\n",
    "- Divide the stocks into 5 portfolios and compute the average monthly returns of each portfolio. Then we add the monthly return of benchmark \"SPY\" at the last line of the data frame of portfolio monthly return.\n"
   ]
  },
  {
   "cell_type": "code",
   "execution_count": 5,
   "metadata": {
    "collapsed": true
   },
   "outputs": [],
   "source": [
    "def port_monthly_return(syls, month_date):\n",
    "    # syls(list): symbols\n",
    "    # month_date(datetime.date): date for calculate the monthly return\n",
    "    # return value: a list of average return for each portfolio\n",
    "    num_each_port = int(num_stocks/float(num_ports))\n",
    "    port_ret = []\n",
    "    for i in range(num_ports):\n",
    "        sum_ret = 0  # the sum of return in one portfolio\n",
    "        for j in range(i*num_each_port,(i+1)*num_each_port):\n",
    "            price = hist[syls[j]].to_frame()[month_date.strftime(\"%Y-%m\")]\n",
    "            sum_ret += (price.iloc[-1] - price.iloc[0]) / price.iloc[0]\n",
    "        port_ret.append(np.mean(sum_ret)) \n",
    "    # add monthly return of \"SPY\" to the end of the list\n",
    "    hist_benchmark = hist[syls[-1]].to_frame()[month_date.strftime(\"%Y-%m\")]\n",
    "    res_benchmark = (hist_benchmark.iloc[-1] - hist_benchmark.iloc[0]) / hist_benchmark.iloc[0]\n",
    "    port_ret.append(res_benchmark[0])\n",
    "    return port_ret"
   ]
  },
  {
   "cell_type": "code",
   "execution_count": 11,
   "metadata": {
    "collapsed": true
   },
   "outputs": [],
   "source": [
    "ret = []\n",
    "for i in range(len(df.columns)):\n",
    "    ranked_syls = df.sort_values(df.columns[i]).index  \n",
    "    ret.append(port_monthly_return(ranked_syls,df.columns[i]))\n",
    "df_return = pd.DataFrame(ret, index = df.columns)"
   ]
  },
  {
   "cell_type": "code",
   "execution_count": 12,
   "metadata": {},
   "outputs": [
    {
     "data": {
      "text/plain": [
       "<matplotlib.legend.Legend at 0x7fae7fe50d90>"
      ]
     },
     "execution_count": 12,
     "metadata": {},
     "output_type": "execute_result"
    },
    {
     "data": {
      "image/png": "[encoded data removed]",
      "text/plain": [
       "<matplotlib.figure.Figure at 0x7fae83364c90>"
      ]
     },
     "metadata": {},
     "output_type": "display_data"
    }
   ],
   "source": [
    "# plot the cumulative return for five portfolios and the benchmark\n",
    "plt.figure(figsize =(15,7))\n",
    "for i in range(num_ports):\n",
    "    plt.plot(df_return.cumsum()[i], label = 'port%d'%(i+1))\n",
    "plt.plot(df_return.cumsum()[num_ports], label = 'benchmark', linestyle='--', color='b', linewidth=2)\n",
    "plt.xlabel('Portfolio Return: factor PE ratio', fontsize=12)\n",
    "plt.legend(loc=0)"
   ]
  },
  {
   "cell_type": "markdown",
   "metadata": {},
   "source": [
    "### Generate the metrics to test the factor significance\n",
    "After getting the monthly returns of portfolios and the benchmark, we compute the average annual return and excess return over benchmark of each portfolio across the whole backtesting period. Then We generate metrics to judge the significance of each factor."
   ]
  },
  {
   "cell_type": "code",
   "execution_count": 13,
   "metadata": {
    "collapsed": true
   },
   "outputs": [],
   "source": [
    "total_return = {}\n",
    "annual_return = {}\n",
    "excess_return = {}\n",
    "win_prob = {}\n",
    "loss_prob = {}\n",
    "effect_test = {}\n",
    "MinCorr = 0.3\n",
    "Minbottom = -0.05\n",
    "Mintop = 0.05\n",
    "effect_test = {}\n",
    "total_return = (df_return+1).cumprod().iloc[-1,:]-1\n",
    "for i in range(len(total_return)):\n",
    "    if total_return.iloc[i]<-1:\n",
    "        total_return.iloc[i] = -0.99999\n",
    "num_years = len(df_return)/12.0\n",
    "annual_return = list((total_return+1)**(12.0/len(df_return))-1)\n",
    "excess_return = list(annual_return - annual_return[-1])"
   ]
  },
  {
   "cell_type": "markdown",
   "metadata": {},
   "source": [
    "### Metrics 1:\n",
    "The correlation between the portfolio' returns and their rank. The higher the absolute value of the correlation coefficient, the more significant of the factor.\n",
    "\n",
    "### Metrics 2:\n",
    "If the return of the rank first portfolio larger than the portfolio at the bottom of the return rankings, we define it as the win portfolio and the loss portfolio and vice versa. The win probability is the probability that the win portfolio return outperform the benchmark return. The loss probability is the probability that the loss portfolio return underperform the benchmark.  the higher the win and loss probability, the more significant of the factor \n",
    "\n",
    "### Metrics 3:\n",
    "The excess return of the win portfolio should be greater than 0.25, while the excess return of loss portfolio should be lower than 0.0"
   ]
  },
  {
   "cell_type": "code",
   "execution_count": 14,
   "metadata": {
    "collapsed": true
   },
   "outputs": [],
   "source": [
    "result =[]\n",
    "correlation = np.corrcoef(annual_return[:num_ports],[i+1 for i in range(num_ports)])[0][1]\n",
    "result.append(correlation)"
   ]
  },
  {
   "cell_type": "code",
   "execution_count": 15,
   "metadata": {
    "collapsed": true
   },
   "outputs": [],
   "source": [
    "if total_return.iloc[0]<total_return.iloc[-2]:\n",
    "    loss_excess = df_return.iloc[:,0]-df_return.iloc[:,-1]\n",
    "    loss_prob = loss_excess[loss_excess<0].count()/float(len(loss_excess))\n",
    "    win_excess = df_return.iloc[:,-2]-df_return.iloc[:,-1]\n",
    "    win_prob = win_excess[win_excess>0].count()/float(len(win_excess))\n",
    "    result.append(loss_prob)\n",
    "    result.append(win_prob)\n",
    "    \n",
    "    excess_return_win = excess_return[-2]\n",
    "    excess_return_loss = excess_return[0]\n",
    "    result.append(excess_return_win)\n",
    "    result.append(excess_return_loss)    \n",
    "    \n",
    "elif total_return.iloc[0]>total_return.iloc[-2]:\n",
    "    loss_excess = df_return.iloc[:,-2]-df_return.iloc[:,-1]\n",
    "    loss_prob = loss_excess[loss_excess<0].count()/float(len(loss_excess))\n",
    "    win_excess = df_return.iloc[:,0]-df_return.iloc[:,-1]\n",
    "    win_prob = win_excess[win_excess>0].count()/float(len(win_excess))\n",
    "    result.append(loss_prob)\n",
    "    result.append(win_prob)\n",
    "    \n",
    "    excess_return_win = excess_return[0]\n",
    "    excess_return_loss = excess_return[-2]\n",
    "    result.append(excess_return_win)\n",
    "    result.append(excess_return_loss)    "
   ]
  },
  {
   "cell_type": "code",
   "execution_count": 16,
   "metadata": {},
   "outputs": [
    {
     "data": {
      "text/plain": [
       "[0.96153705353134022,\n",
       " 0.48749999999999999,\n",
       " 0.67500000000000004,\n",
       " 1.7813368263378662,\n",
       " -1.4452395122894701]"
      ]
     },
     "execution_count": 16,
     "metadata": {},
     "output_type": "execute_result"
    }
   ],
   "source": [
    "result"
   ]
  },
  {
   "cell_type": "markdown",
   "metadata": {},
   "source": [
    "## Test the significance of multiple Factors\n",
    "Next we test the significance for multiple factors to detect the effective factors. Here I choose 8 factors in Valueation Ratios. More factors like earning ratios, OperationRatios and other factors in financial statments can be found here https://www.quantconnect.com/data#fundamentals/usa/morningstar"
   ]
  },
  {
   "cell_type": "code",
   "execution_count": 8,
   "metadata": {
    "collapsed": true
   },
   "outputs": [],
   "source": [
    "factors = [\"ValuationRatios.PERatio\", \"ValuationRatios.BookValuePerShare\", \n",
    "           \"ValuationRatios.FCFYield\", \"ValuationRatios.BookValueYield\",\n",
    "           \"ValuationRatios.PricetoEBITDA\",\"ValuationRatios.EVToEBITDA\",\n",
    "            \"ValuationRatios.SalesPerShare\", \"ValuationRatios.EarningYield\",\n",
    "            \"ValuationRatios.TrailingDividendYield\",\"ValuationRatios.PriceChange1M\",\n",
    "            \"ValuationRatios.TangibleBookValuePerShare\",\"ValuationRatios.PEGRatio\",\n",
    "            \"ValuationRatios.PCFRatio\",  \"ValuationRatios.PBRatio\",\n",
    "            \"ValuationRatios.CFYield\", \"ValuationRatios.WorkingCapitalPerShare\",\n",
    "            \"ValuationRatios.ExpectedDividendGrowthRate\",\"ValuationRatios.SalesYield\"]"
   ]
  },
  {
   "cell_type": "code",
   "execution_count": null,
   "metadata": {},
   "outputs": [],
   "source": [
    "factor_test = {}\n",
    "for factor_name in factors:\n",
    "    \n",
    "    data = qb.GetFundamental(symbols, factor_name, start_date, end_date)\n",
    "    df = data\n",
    "    # fill the NaN with the forward data, \n",
    "    # drop the NaN rows, \n",
    "    # transpose the dataframe with the symbol index\n",
    "    df = df.fillna(method='ffill').dropna().T\n",
    "    df.index= symbols # change index to symbol names\n",
    "    # remove the stocks if there are zero values\n",
    "    df = df[~(df == 0).any(axis=1)][:num_stocks]\n",
    "    # change columns name to date type\n",
    "    df.columns =[i.date() for i in df.columns]\n",
    "\n",
    "    \n",
    "    drop_columns = []\n",
    "    for i in range(len(df.columns)):\n",
    "        date = df.columns[i]\n",
    "        end_day_of_month = date.replace(day=monthrange(date.year, date.month)[1])\n",
    "        if date != end_day_of_month:\n",
    "            drop_columns.append(df.columns[i])\n",
    "    # drop columns if it is not the last day of the month        \n",
    "    df = df.drop(drop_columns, axis=1)\n",
    "    \n",
    "    # create a dictionary keyed by symbols, valued by a list of history close\n",
    "    # add the benchmark \"SPY\"\n",
    "    hist = {}\n",
    "    sym_list = list(df.index)\n",
    "    sym_list.append(u'SPY')\n",
    "    for symbol in sym_list:    \n",
    "        qb.AddEquity(symbol) \n",
    "        history = qb.History(symbol, start_date, end_date, Resolution.Daily).loc[symbol][\"close\"]\n",
    "        hist[symbol] = history\n",
    "    \n",
    "\n",
    "    ret = []\n",
    "    for i in range(len(df.columns)):\n",
    "        ranked_syls = df.sort_values(df.columns[i]).index  \n",
    "        ret.append(port_monthly_return(ranked_syls,df.columns[i]))\n",
    "    df_return = pd.DataFrame(ret, index = df.columns)\n",
    "    \n",
    "    \n",
    "    # plot the cumulative return for five portfolios and the benchmark\n",
    "    plt.figure(figsize =(13,6))\n",
    "    for i in range(num_ports):\n",
    "        plt.plot(df_return.cumsum()[i], label = 'port%d'%(i+1))\n",
    "    plt.plot(df_return.cumsum()[num_ports], label = 'benchmark', linestyle='--', color='b', linewidth=2)\n",
    "    plt.xlabel('Portfolio Return: factor %s'%factor_name, fontsize=12)\n",
    "    plt.legend(loc=0)\n",
    " \n",
    "\n",
    "    total_return = (df_return+1).cumprod().iloc[-1,:]-1\n",
    "    for i in range(len(total_return)):\n",
    "        if total_return.iloc[i]<-1:\n",
    "            total_return.iloc[i] = -0.99999\n",
    "    num_years = len(df_return)/12.0\n",
    "    annual_return = list((total_return+1)**(12.0/len(df_return))-1)\n",
    "    excess_return = list(annual_return - annual_return[-1])\n",
    "    \n",
    "    \n",
    "    result =[]\n",
    "    correlation = np.corrcoef(annual_return[:num_ports],[i+1 for i in range(num_ports)])[0][1]\n",
    "    result.append(correlation)\n",
    "    \n",
    "    if total_return.iloc[0]<total_return.iloc[-2]:\n",
    "        loss_excess = df_return.iloc[:,0]-df_return.iloc[:,-1]\n",
    "        loss_prob = loss_excess[loss_excess<0].count()/float(len(loss_excess))\n",
    "        win_excess = df_return.iloc[:,-2]-df_return.iloc[:,-1]\n",
    "        win_prob = win_excess[win_excess>0].count()/float(len(win_excess))\n",
    "        result.append(loss_prob)\n",
    "        result.append(win_prob)\n",
    "\n",
    "        excess_return_win = excess_return[-2]\n",
    "        excess_return_loss = excess_return[0]\n",
    "        result.append(excess_return_win)\n",
    "        result.append(excess_return_loss)    \n",
    "    \n",
    "    elif total_return.iloc[0]>total_return.iloc[-2]:\n",
    "        loss_excess = df_return.iloc[:,-2]-df_return.iloc[:,-1]\n",
    "        loss_prob = loss_excess[loss_excess<0].count()/float(len(loss_excess))\n",
    "        win_excess = df_return.iloc[:,0]-df_return.iloc[:,-1]\n",
    "        win_prob = win_excess[win_excess>0].count()/float(len(win_excess))\n",
    "        result.append(loss_prob)\n",
    "        result.append(win_prob)\n",
    "\n",
    "        excess_return_win = excess_return[0]\n",
    "        excess_return_loss = excess_return[-2]\n",
    "        result.append(excess_return_win)\n",
    "        result.append(excess_return_loss) \n",
    "    \n",
    "    factor_test[factor_name] = result"
   ]
  },
  {
   "cell_type": "code",
   "execution_count": 19,
   "metadata": {},
   "outputs": [
    {
     "data": {
      "text/html": [
       "<div>\n",
       "<style>\n",
       "    .dataframe thead tr:only-child th {\n",
       "        text-align: right;\n",
       "    }\n",
       "\n",
       "    .dataframe thead th {\n",
       "        text-align: left;\n",
       "    }\n",
       "\n",
       "    .dataframe tbody tr th {\n",
       "        vertical-align: top;\n",
       "    }\n",
       "</style>\n",
       "<table border=\"1\" class=\"dataframe\">\n",
       "  <thead>\n",
       "    <tr style=\"text-align: right;\">\n",
       "      <th></th>\n",
       "      <th>ValuationRatios.BookValuePerShare</th>\n",
       "      <th>ValuationRatios.BookValueYield</th>\n",
       "      <th>ValuationRatios.CashReturn</th>\n",
       "      <th>ValuationRatios.EVToEBITDA</th>\n",
       "      <th>ValuationRatios.EarningYield</th>\n",
       "      <th>ValuationRatios.FCFYield</th>\n",
       "      <th>ValuationRatios.PERatio</th>\n",
       "      <th>ValuationRatios.PricetoEBITDA</th>\n",
       "    </tr>\n",
       "  </thead>\n",
       "  <tbody>\n",
       "    <tr>\n",
       "      <th>correlation</th>\n",
       "      <td>-0.496643</td>\n",
       "      <td>-0.910746</td>\n",
       "      <td>-0.136929</td>\n",
       "      <td>0.819191</td>\n",
       "      <td>-0.247366</td>\n",
       "      <td>0.076611</td>\n",
       "      <td>0.961537</td>\n",
       "      <td>0.760482</td>\n",
       "    </tr>\n",
       "    <tr>\n",
       "      <th>loss probability</th>\n",
       "      <td>0.437500</td>\n",
       "      <td>0.537500</td>\n",
       "      <td>0.425000</td>\n",
       "      <td>0.437500</td>\n",
       "      <td>0.450000</td>\n",
       "      <td>0.462500</td>\n",
       "      <td>0.487500</td>\n",
       "      <td>0.487500</td>\n",
       "    </tr>\n",
       "    <tr>\n",
       "      <th>win probability</th>\n",
       "      <td>0.587500</td>\n",
       "      <td>0.687500</td>\n",
       "      <td>0.562500</td>\n",
       "      <td>0.700000</td>\n",
       "      <td>0.550000</td>\n",
       "      <td>0.525000</td>\n",
       "      <td>0.675000</td>\n",
       "      <td>0.662500</td>\n",
       "    </tr>\n",
       "    <tr>\n",
       "      <th>excess return(win)</th>\n",
       "      <td>0.410495</td>\n",
       "      <td>1.821580</td>\n",
       "      <td>-0.658219</td>\n",
       "      <td>1.415108</td>\n",
       "      <td>-0.677539</td>\n",
       "      <td>-0.678577</td>\n",
       "      <td>1.781337</td>\n",
       "      <td>1.016998</td>\n",
       "    </tr>\n",
       "    <tr>\n",
       "      <th>excess return(loss)</th>\n",
       "      <td>-0.435370</td>\n",
       "      <td>-0.717739</td>\n",
       "      <td>-0.737427</td>\n",
       "      <td>-0.502127</td>\n",
       "      <td>-0.736370</td>\n",
       "      <td>-0.763143</td>\n",
       "      <td>-1.445240</td>\n",
       "      <td>-0.991618</td>\n",
       "    </tr>\n",
       "  </tbody>\n",
       "</table>\n",
       "</div>"
      ],
      "text/plain": [
       "                     ValuationRatios.BookValuePerShare  \\\n",
       "correlation                                  -0.496643   \n",
       "loss probability                              0.437500   \n",
       "win probability                               0.587500   \n",
       "excess return(win)                            0.410495   \n",
       "excess return(loss)                          -0.435370   \n",
       "\n",
       "                     ValuationRatios.BookValueYield  \\\n",
       "correlation                               -0.910746   \n",
       "loss probability                           0.537500   \n",
       "win probability                            0.687500   \n",
       "excess return(win)                         1.821580   \n",
       "excess return(loss)                       -0.717739   \n",
       "\n",
       "                     ValuationRatios.CashReturn  ValuationRatios.EVToEBITDA  \\\n",
       "correlation                           -0.136929                    0.819191   \n",
       "loss probability                       0.425000                    0.437500   \n",
       "win probability                        0.562500                    0.700000   \n",
       "excess return(win)                    -0.658219                    1.415108   \n",
       "excess return(loss)                   -0.737427                   -0.502127   \n",
       "\n",
       "                     ValuationRatios.EarningYield  ValuationRatios.FCFYield  \\\n",
       "correlation                             -0.247366                  0.076611   \n",
       "loss probability                         0.450000                  0.462500   \n",
       "win probability                          0.550000                  0.525000   \n",
       "excess return(win)                      -0.677539                 -0.678577   \n",
       "excess return(loss)                     -0.736370                 -0.763143   \n",
       "\n",
       "                     ValuationRatios.PERatio  ValuationRatios.PricetoEBITDA  \n",
       "correlation                         0.961537                       0.760482  \n",
       "loss probability                    0.487500                       0.487500  \n",
       "win probability                     0.675000                       0.662500  \n",
       "excess return(win)                  1.781337                       1.016998  \n",
       "excess return(loss)                -1.445240                      -0.991618  "
      ]
     },
     "execution_count": 19,
     "metadata": {},
     "output_type": "execute_result"
    }
   ],
   "source": [
    "pd.DataFrame(factor_test, \n",
    "             index = ['correlation','loss probability','win probability',\n",
    "                      'excess return(win)','excess return(loss)'])"
   ]
  },
  {
   "cell_type": "markdown",
   "metadata": {},
   "source": [
    "#### Conclusion\n",
    "- From the above plot and the factor test result statistics, among all these factors, BookValueYield and PE Ratio the most significant one that can explain the return. But BookValueYield is negatively correlated with stock return but PE Ratio is positively correlated with return. \n",
    "- For example BookValueYield, the correlation is negative, but the absolute value is high. Both the loss prability and the win probability are over 0.5. The excess return for win portfolio is positive and the excess return for loss portfolio is negative. \n",
    "- In the following research, we ca ntest more factors and pick the significant ones as independent variables in multi-factor models. Or in long/short strategies, rank the stocks according to those significant factors to generate the positive returns."
   ]
  },
  {
   "cell_type": "code",
   "execution_count": null,
   "metadata": {
    "collapsed": true
   },
   "outputs": [],
   "source": []
  }
 ],
 "metadata": {
  "kernelspec": {
   "display_name": "Python 2",
   "language": "python",
   "name": "python2"
  },
  "language_info": {
   "codemirror_mode": {
    "name": "ipython",
    "version": 2
   },
   "file_extension": ".py",
   "mimetype": "text/x-python",
   "name": "python",
   "nbconvert_exporter": "python",
   "pygments_lexer": "ipython2",
   "version": "2.7.12"
  }
 },
 "nbformat": 4,
 "nbformat_minor": 2
}