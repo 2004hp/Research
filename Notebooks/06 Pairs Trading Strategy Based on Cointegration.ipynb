{
 "cells": [
  {
   "cell_type": "markdown",
   "metadata": {},
   "source": [
    "![QuantConnect Logo](https://cdn.quantconnect.com/web/i/logo-small.png)\n",
    "Welcome to The QuantConnect Research Page!\n",
    "\n",
    "Refer to this page for documentation https://www.quantconnect.com/docs#Introduction-to-Jupyter\n",
    "\n",
    "Contribute to this file https://github.com/QuantConnect/Research/tree/master/Notebooks"
   ]
  },
  {
   "cell_type": "markdown",
   "metadata": {},
   "source": [
    "## Pairs Trading Based on Cointegration\n",
    "In this research we will demonstrate a pairs trading strategy based on cointegration. Refer to this research notebook for details about cointegration pairs trading method.\n",
    "\n",
    "https://github.com/QuantConnect/Research/blob/master/Notebooks/03%20Kalman%20Filter%20Based%20Pairs%20Trading.ipynb\n",
    "\n",
    "- Check the algorithm implemented on LEAN\n",
    "\n",
    "https://www.quantconnect.com/terminal/processCache?request=embedded_backtest_d6e655d4d158c4043eef8926a72c75f5.html\n",
    "\n",
    "Here we ignore the fees when we generate the profit curve so the statistics result might be slightly different from the LEAN implementation."
   ]
  },
  {
   "cell_type": "code",
   "execution_count": 37,
   "metadata": {
    "collapsed": true
   },
   "outputs": [],
   "source": [
    "%matplotlib inline\n",
    "# Imports\n",
    "from clr import AddReference\n",
    "AddReference(\"System\")\n",
    "AddReference(\"QuantConnect.Common\")\n",
    "AddReference(\"QuantConnect.Jupyter\")\n",
    "AddReference(\"QuantConnect.Indicators\")\n",
    "from System import *\n",
    "from QuantConnect import *\n",
    "from QuantConnect.Data.Market import TradeBar, QuoteBar\n",
    "from QuantConnect.Jupyter import *\n",
    "from QuantConnect.Indicators import *\n",
    "from datetime import datetime, timedelta\n",
    "import matplotlib.pyplot as plt\n",
    "import pandas as pd\n",
    "# Create an instance\n",
    "qb = QuantBook()\n",
    "# plt.style.available"
   ]
  },
  {
   "cell_type": "code",
   "execution_count": 38,
   "metadata": {
    "collapsed": true
   },
   "outputs": [],
   "source": [
    "import matplotlib.pyplot as plt\n",
    "import matplotlib.cm as cm\n",
    "import numpy as np\n",
    "import pandas as pd\n",
    "import statsmodels.api as sm\n",
    "from math import floor\n",
    "plt.style.use('seaborn-whitegrid')\n",
    "from sklearn import linear_model"
   ]
  },
  {
   "cell_type": "markdown",
   "metadata": {},
   "source": [
    "### Step 0:\n",
    "First we define some functions that we need to generate the equity curve."
   ]
  },
  {
   "cell_type": "code",
   "execution_count": 39,
   "metadata": {
    "collapsed": true
   },
   "outputs": [],
   "source": [
    "def calculateQuantity(signal, price, cash):\n",
    "    \"\"\"\n",
    "    This function calculate the quantity based on the signal and initial cash \n",
    "    \n",
    "    Parameters:\n",
    "            signal(pandas.Series): The trading signal series of stock indexed by date (long 1, short -1, holding 0)\n",
    "            price(pandas.Series) : The price series of stock indexed by date\n",
    "            cash(float): The total cash for trading\n",
    "    \n",
    "    Returns(pandas.Series):\n",
    "            quantity(pandas.Series): The number of holding shares indexed by date \n",
    "    \"\"\"\n",
    "\n",
    "    index = np.where(signal.shift(1) != signal)[0][1:]\n",
    "    quantity_temp = floor(cash/price[0])\n",
    "    cash_left_temp = cash\n",
    "    quantity = [quantity_temp] #* len(signal)\n",
    "    cash_left = [cash_left_temp] #* len(signal)\n",
    "\n",
    "    for i in range(1,len(price)):\n",
    "        if i in index:\n",
    "            if signal[i-1] * signal[i] == -1:\n",
    "                cash_left_liquidate = cash_left[i-1] + (signal[i-1]- 0) * quantity[-1] * price[i]                    \n",
    "                quantity_temp = floor(cash_left_liquidate / price[i])\n",
    "                cash_left_temp = cash_left_liquidate + (0 - signal[i]) * quantity_temp * price[i] \n",
    " \n",
    "                if quantity_temp == 0:\n",
    "                    # print(\"{0} Order Failed (No enough money)  Cash left: {1} share price: {2}\".format(signal.index[i],cash_left_temp,price[i]))                    \n",
    "                    quantity_temp =  quantity[i-1]\n",
    "                \n",
    "                if cash_left_liquidate < 0:\n",
    "                    quantity_temp = 0\n",
    "                                         \n",
    "            elif signal[i-1] * signal[i] == 0:\n",
    "                quantity_temp = floor(cash_left[i-1] / price[i])\n",
    "                cash_left_temp = cash_left[i-1] + (signal[i-1]- signal[i]) * quantity_temp * price[i]        \n",
    "                    \n",
    "                if quantity_temp == 0:\n",
    "                    # print(\"{0} Order Failed (No enough money)  Cash left: {1} share price: {2}\".format(signal.index[i],cash_left_temp,price[i]))\n",
    "                    quantity_temp =  quantity[i-1]\n",
    "                       \n",
    "        quantity.append(quantity_temp)\n",
    "        cash_left.append(cash_left_temp)\n",
    "   \n",
    "    return pd.Series(quantity, index = signal.index)"
   ]
  },
  {
   "cell_type": "code",
   "execution_count": 40,
   "metadata": {
    "collapsed": true
   },
   "outputs": [],
   "source": [
    "class NetProfit:\n",
    "    \"\"\"\n",
    "    This class calculates the net profit for strategy trading individual stock\n",
    "    \n",
    "    Args:\n",
    "        price(pandas.Series) : The price series of stock indexed by date\n",
    "        signal(pandas.Series): The trading signal series of stock indexed by date (long 1, short -1, holding 0)\n",
    "\n",
    "    Attributes:\n",
    "        price(pandas.Series) : The price series of stock indexed by date\n",
    "        signal(pandas.Series): The trading signal series of stock indexed by date (long 1, short -1, holding 0)\n",
    "        quantity(pandas.Series): The number of holding shares indexed by date \n",
    "    \n",
    "    Note:\n",
    "        If there is no quantity, the default value of quantity is 1 share at each time step)       \n",
    "    \"\"\"\n",
    "    \n",
    "    def __init__(self, price, signal):\n",
    "        self.price = price\n",
    "        self.signal = signal\n",
    "        self.quantity = pd.Series([1]*len(self.price),index = self.price.index)\n",
    "        \n",
    "        \n",
    "    def net_profit(self):\n",
    "       \n",
    "        \"\"\"\n",
    "        calculate the net profit\n",
    "        \n",
    "        Returns(pandas.Series):\n",
    "                The net profit for strategy        \n",
    "        \"\"\"\n",
    "        #   log_return = np.log(self.price/self.price.shift(1))\n",
    "        #   cum_return = np.exp(((log_return)*self.signal.shift(1)).cumsum())*self.quantity\n",
    "        pct_return = self.price.pct_change()\n",
    "        cum_return = ((pct_return)*self.signal.shift(1) + 1).cumprod()*self.quantity \n",
    "        net_profit = cum_return.dropna()*self.price[0] #- self.quantity * self.price[0]\n",
    "\n",
    "        return net_profit   \n",
    "    \n",
    "class PortfolioNetProfit:\n",
    "    \"\"\"\n",
    "    This class calculates the net profit for strategy trading a porfolio of stocks or singal stock\n",
    "    \n",
    "    Args:\n",
    "        data(dict): A dictionary stores the data for multiple stocks \n",
    "                    keys(string): \n",
    "                                symbols\n",
    "                    values(dataframe): \n",
    "                                Index: date \n",
    "                                Columns: ['price','signal','quantity'] or ['price','signal']         \n",
    "    \"\"\"\n",
    "    \n",
    "    def __init__(self,data):\n",
    "        self.data = data\n",
    "        \n",
    "    def net_profit(self):\n",
    "        \"\"\"\n",
    "        Calculate the net profit for the portfolio\n",
    "        \n",
    "        Returns(pandas.Series):\n",
    "                The net profit for strategy\n",
    "            \n",
    "        \"\"\"\n",
    "        dataframe = self.data[self.data.keys()[0]]\n",
    "        net_profit_port = pd.Series([0]*(len(dataframe)),index = dataframe.index)\n",
    "       \n",
    "        for i in self.data:\n",
    "            df = self.data[i]\n",
    "            net_profit_each = NetProfit(df['price'],df['signal'])\n",
    "            try:\n",
    "                net_profit_each.quantity = df['quantity'] # if there is no quantity, the default is 1 \n",
    "            except:\n",
    "                pass\n",
    "            cum_return = net_profit_each.net_profit()\n",
    "            net_profit_port = net_profit_port.add(cum_return,fill_value=0)        \n",
    "\n",
    "        return net_profit_port[1:]\n",
    "    \n",
    "    def curve(self):\n",
    "        \"\"\"\n",
    "        Plot the equity curve for strategy contain a portfolio of stocks\n",
    "        \"\"\"\n",
    "        net_profit_port = self.net_profit()\n",
    "        plt.figure(figsize =(15,7))\n",
    "        plt.plot(net_profit_port.index, net_profit_port,label ='Profit ($)')\n",
    "        plt.legend()        \n"
   ]
  },
  {
   "cell_type": "markdown",
   "metadata": {},
   "source": [
    "### Step 1:  Find two likely cointegrated stocks"
   ]
  },
  {
   "cell_type": "code",
   "execution_count": 41,
   "metadata": {
    "collapsed": true,
    "scrolled": true
   },
   "outputs": [],
   "source": [
    "syls = [\"XOM\",\"CVX\"]\n",
    "qb.AddEquity(syls[0])\n",
    "qb.AddEquity(syls[1])\n",
    "start = datetime(2003,1,1)\n",
    "end = datetime(2017,1,1)\n",
    "x = qb.History(syls[0],start ,end, Resolution.Daily).loc[syls[0]]['close']\n",
    "y = qb.History(syls[1],start ,end, Resolution.Daily).loc[syls[1]]['close']"
   ]
  },
  {
   "cell_type": "code",
   "execution_count": 42,
   "metadata": {
    "collapsed": true
   },
   "outputs": [],
   "source": [
    "price = pd.concat([x, y], axis=1)\n",
    "price.columns = syls \n",
    "lp = np.log(price)"
   ]
  },
  {
   "cell_type": "code",
   "execution_count": 43,
   "metadata": {
    "collapsed": true
   },
   "outputs": [],
   "source": [
    "in_sample_size = len(lp[:'2009'])\n",
    "out_sample_size = len(lp)-in_sample_size\n",
    "in_sample = lp[:in_sample_size]\n",
    "out_sample = lp[out_sample_size:]"
   ]
  },
  {
   "cell_type": "markdown",
   "metadata": {},
   "source": [
    "### Step 2: Estimate Spreads\n",
    "If we have two stocks, X & Y, that are cointegrated in their price movements, then any divergence in the spread from 0 should be temporary and mean-reverting. Next step we will estimate the spread series."
   ]
  },
  {
   "cell_type": "code",
   "execution_count": 44,
   "metadata": {
    "collapsed": true
   },
   "outputs": [],
   "source": [
    "def reg(x,y):\n",
    "    regr = linear_model.LinearRegression()\n",
    "    x_constant = pd.concat([x,pd.Series([1]*len(x),index = x.index)], axis=1)\n",
    "    regr.fit(x_constant, y)    \n",
    "    beta = regr.coef_[0]\n",
    "    alpha = regr.intercept_\n",
    "    spread = y - x*beta - alpha\n",
    "    return spread"
   ]
  },
  {
   "cell_type": "code",
   "execution_count": 45,
   "metadata": {
    "collapsed": true
   },
   "outputs": [],
   "source": [
    "x = in_sample[syls[0]]\n",
    "y = in_sample[syls[1]]\n",
    "spread = reg(x,y)"
   ]
  },
  {
   "cell_type": "markdown",
   "metadata": {},
   "source": [
    "### Step 3: Check Staionarity\n",
    "We use ADF test to check the stationary of the spread series."
   ]
  },
  {
   "cell_type": "code",
   "execution_count": 46,
   "metadata": {
    "scrolled": false
   },
   "outputs": [
    {
     "name": "stdout",
     "output_type": "stream",
     "text": [
      "ADF test statistic: -3.07\n",
      "\t5%: -2.863\n",
      "\t1%: -3.434\n",
      "\t10%: -2.568\n",
      "p-value: 0.029\n"
     ]
    }
   ],
   "source": [
    "# check if the spread is stationary \n",
    "adf = sm.tsa.stattools.adfuller(spread, maxlag=1)\n",
    "print 'ADF test statistic: %.02f' % adf[0]\n",
    "for key, value in adf[4].items():\n",
    "    print('\\t%s: %.3f' % (key, value))\n",
    "print 'p-value: %.03f' % adf[1]"
   ]
  },
  {
   "cell_type": "markdown",
   "metadata": {},
   "source": [
    "### Step 4: Create Trading Signal\n",
    "Here we use 1.5 times the standard deviation as our threshold. If the sample is out of the range, then we think their is a price divergence between these two stocks price which means the pairs trading opportunity."
   ]
  },
  {
   "cell_type": "code",
   "execution_count": 47,
   "metadata": {
    "collapsed": true
   },
   "outputs": [],
   "source": [
    "numdays = 250 # set the length of formation period\n",
    "threshold = 1.5\n",
    "signal_x = [0] * out_sample_size\n",
    "signal_y = [0] * out_sample_size\n",
    "for i in range(1,out_sample_size):\n",
    "    df = lp[in_sample_size+i-numdays:in_sample_size+i]\n",
    "    x = df[syls[0]]\n",
    "    y = df[syls[1]]\n",
    "    spread = reg(x,y)\n",
    "    mean = np.mean(spread)\n",
    "    std = np.std(spread)\n",
    "    if spread[-1] > mean + threshold*std:\n",
    "        signal_x[i] = 1\n",
    "        signal_y[i] = -1\n",
    "    elif spread[-1] < mean - threshold*std:\n",
    "        signal_x[i] = -1\n",
    "        signal_y[i] = 1\n",
    "    else:\n",
    "        signal_x[i] = 0\n",
    "        signal_y[i] = 0        "
   ]
  },
  {
   "cell_type": "code",
   "execution_count": 48,
   "metadata": {
    "collapsed": true
   },
   "outputs": [],
   "source": [
    "data_price = price[out_sample_size+1:]\n",
    "data_signal = pd.DataFrame({syls[0]:signal_x, \n",
    "                            syls[1]:signal_y},index = data_price.index)"
   ]
  },
  {
   "cell_type": "code",
   "execution_count": 49,
   "metadata": {
    "collapsed": true
   },
   "outputs": [],
   "source": [
    "data_dict = {}\n",
    "total_cash = 10000.0\n",
    "for i in syls:\n",
    "    data_dict[i] = pd.DataFrame({'price':data_price[i],\n",
    "                                 'signal':data_signal[i],#, index = data_price[i].index) \n",
    "                                 'quantity':calculateQuantity(data_signal[syls[0]],data_price[syls[0]], total_cash/2)}, index = data_price[i].index)\n"
   ]
  },
  {
   "cell_type": "code",
   "execution_count": 50,
   "metadata": {},
   "outputs": [
    {
     "data": {
      "text/plain": [
       "<matplotlib.legend.Legend at 0x7f0fc9568610>"
      ]
     },
     "execution_count": 50,
     "metadata": {},
     "output_type": "execute_result"
    },
    {
     "data": {
      "image/png": "[encoded data removed]",
      "text/plain": [
       "<matplotlib.figure.Figure at 0x7f0fa3b87f50>"
      ]
     },
     "metadata": {},
     "output_type": "display_data"
    }
   ],
   "source": [
    "profit_strategy = PortfolioNetProfit(data_dict).net_profit()\n",
    "PortfolioNetProfit(data_dict).curve()\n",
    "qb.AddEquity('SPY')\n",
    "benchmark = qb.History('SPY',start,end, Resolution.Daily).loc['SPY']['close'][in_sample_size:]\n",
    "profit_benchmark = benchmark*(total_cash/benchmark[0])\n",
    "plt.plot(profit_benchmark, label = 'profit_benchmark')\n",
    "plt.legend()"
   ]
  },
  {
   "cell_type": "markdown",
   "metadata": {},
   "source": [
    "### Step 5:\n",
    "Calculatet the statistics to evaluate the performance of the strategy.\n",
    "How to calculate the strategy statistics?\n",
    "\n",
    "- *GetPortfolioStatistics(PyObject dataFrame)*\n",
    "\n",
    "GetPortfolioStatistics API gets portfolio Statistics from a pandas.DataFrame with equity and benchmark values. The columns are 'benchmark' and 'equity'. The value is the cumulative profit of the strategy and the benchmark(buy and hold the benckmark equity strategy).\n",
    "\n",
    "Refer to the QuantBook on Github for details:\n",
    "https://github.com/QuantConnect/Lean/blob/cc46cd367f5a0c415e6ac2462b903a27a86eedcb/Jupyter/QuantBook.cs#L505"
   ]
  },
  {
   "cell_type": "code",
   "execution_count": 51,
   "metadata": {},
   "outputs": [
    {
     "data": {
      "text/plain": [
       "{u'Alpha': 0.023892686963495603,\n",
       " u'Annual Standard Deviation': 0.0449632676645482,\n",
       " u'Annual Variance': 0.0020216954390738086,\n",
       " u'Average Loss (%)': -6.07385494058071e-06,\n",
       " u'Average Win (%)': 3.5289214131427515e-05,\n",
       " u'Beta': -0.0412781383446797,\n",
       " u'Compounding Annual Return (%)': 1.76959479577068,\n",
       " u'Drawdown (%)': 5.4,\n",
       " u'Expectancy': 0.1176011149831545,\n",
       " u'Information Ratio': -0.662718759749446,\n",
       " u'Loss Rate (%)': 83.58886996024985,\n",
       " u'Net Profit (%)': 13.042780680740233,\n",
       " u'Profit-Loss Ratio': 5.8100192508143085,\n",
       " u'Sharpe Ratio': 0.4126221261601938,\n",
       " u'Tracking Error': 0.167204825369531,\n",
       " u'Treynor Ratio': -0.4494592015738769,\n",
       " u'Win Rate (%)': 16.41113003975014}"
      ]
     },
     "execution_count": 51,
     "metadata": {},
     "output_type": "execute_result"
    }
   ],
   "source": [
    "performance = pd.concat([profit_benchmark,profit_strategy],axis=1)[1:]\n",
    "performance.columns = ['benchmark','equity']\n",
    "stats = qb.GetPortfolioStatistics(performance)\n",
    "stats"
   ]
  }
 ],
 "metadata": {
  "kernelspec": {
   "display_name": "Python 2",
   "language": "python",
   "name": "python2"
  },
  "language_info": {
   "codemirror_mode": {
    "name": "ipython",
    "version": 2
   },
   "file_extension": ".py",
   "mimetype": "text/x-python",
   "name": "python",
   "nbconvert_exporter": "python",
   "pygments_lexer": "ipython2",
   "version": "2.7.12"
  }
 },
 "nbformat": 4,
 "nbformat_minor": 2
}
